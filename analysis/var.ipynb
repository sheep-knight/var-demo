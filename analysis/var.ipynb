{
 "cells": [
  {
   "cell_type": "code",
   "execution_count": 34,
   "metadata": {
    "id": "viMMdIF2uk7o"
   },
   "outputs": [],
   "source": [
    "import numpy as np\n",
    "import statsmodels.api as sm\n",
    "import pandas as pd\n",
    "import os\n",
    "import statsmodels.stats.diagnostic\n",
    "import matplotlib.pyplot as plt\n",
    "import scipy.sparse as sp\n",
    "from statsmodels.tsa.stattools import adfuller\n",
    "from statsmodels.tsa.stattools import coint\n",
    "from statsmodels.stats.outliers_influence import variance_inflation_factor\n",
    "from statsmodels.tsa.vector_ar.vecm import coint_johansen\n",
    "\n"
   ]
  },
  {
   "cell_type": "code",
   "execution_count": 35,
   "metadata": {
    "id": "J-wz-PBMuk77"
   },
   "outputs": [],
   "source": [
    "raw_df=pd.read_csv('D:/var/var-demo/sample/VAR_Sample.csv')"
   ]
  },
  {
   "cell_type": "markdown",
   "metadata": {
    "id": "4CgLE47b9J9i"
   },
   "source": []
  },
  {
   "cell_type": "code",
   "execution_count": 36,
   "metadata": {
    "colab": {
     "base_uri": "https://localhost:8080/"
    },
    "id": "jGiaL5l1uk8B",
    "outputId": "963f089f-e88d-42dd-db27-41f7fa097097"
   },
   "outputs": [
    {
     "name": "stdout",
     "output_type": "stream",
     "text": [
      "        Time      Var1      Var2      Var3      Var4      Var5      Var6\n",
      "0  1946/5/15 -0.449176 -0.452652 -0.441546 -0.549542  1.143237  0.874400\n",
      "1  1946/5/15  1.416695 -0.452652 -0.441546 -0.549542 -0.628476  0.471380\n",
      "2  1946/5/15 -0.759093 -0.452652 -0.441546 -0.549542  2.939909 -0.432916\n",
      "3  1946/5/16 -0.613285 -0.452652 -0.441546 -0.434345  2.740102 -0.511441\n",
      "4  1946/5/16 -0.759093 -0.452652 -0.441546  0.336319  2.321493 -0.660492\n"
     ]
    }
   ],
   "source": [
    "print(raw_df.head())"
   ]
  },
  {
   "cell_type": "code",
   "execution_count": 37,
   "metadata": {
    "colab": {
     "base_uri": "https://localhost:8080/"
    },
    "id": "0ZZpeSV2SB6L",
    "outputId": "a486de6a-f6fd-4e7c-ab61-e78f777c2b87"
   },
   "outputs": [
    {
     "data": {
      "text/plain": [
       "pandas.core.series.Series"
      ]
     },
     "execution_count": 37,
     "metadata": {},
     "output_type": "execute_result"
    }
   ],
   "source": [
    "type(raw_df['Time'])"
   ]
  },
  {
   "cell_type": "code",
   "execution_count": 38,
   "metadata": {
    "colab": {
     "base_uri": "https://localhost:8080/"
    },
    "id": "fxpfFvCLVl7P",
    "outputId": "653d0f7c-7fca-473c-c9aa-969e6b0ca917"
   },
   "outputs": [
    {
     "name": "stdout",
     "output_type": "stream",
     "text": [
      "0    1946/5/15\n",
      "1    1946/5/15\n",
      "2    1946/5/15\n",
      "3    1946/5/16\n",
      "4    1946/5/16\n",
      "Name: Time, dtype: object\n"
     ]
    }
   ],
   "source": [
    "print(raw_df['Time'].head())"
   ]
  },
  {
   "cell_type": "code",
   "execution_count": 39,
   "metadata": {
    "colab": {
     "base_uri": "https://localhost:8080/"
    },
    "id": "7_mET9gMZ-ZR",
    "outputId": "86c39d53-0638-4c92-bc21-8ad30b8f4f52"
   },
   "outputs": [
    {
     "name": "stdout",
     "output_type": "stream",
     "text": [
      "0   -0.449176\n",
      "1    1.416695\n",
      "2   -0.759093\n",
      "3   -0.613285\n",
      "4   -0.759093\n",
      "Name: Var1, dtype: float64\n"
     ]
    }
   ],
   "source": [
    "print(raw_df['Var1'].head())"
   ]
  },
  {
   "cell_type": "code",
   "execution_count": 40,
   "metadata": {
    "id": "gtVPuqEIuk8F"
   },
   "outputs": [],
   "source": [
    "raw_df['Time']=pd.to_datetime(raw_df['Time'],errors='coerce',format='%Y/%m/%d')"
   ]
  },
  {
   "cell_type": "code",
   "execution_count": 41,
   "metadata": {
    "colab": {
     "base_uri": "https://localhost:8080/"
    },
    "id": "mi5ABdBDf2po",
    "outputId": "5ea81a9a-2f3e-464e-dde9-9e1c10a16ad0"
   },
   "outputs": [
    {
     "name": "stdout",
     "output_type": "stream",
     "text": [
      "0   1946-05-15\n",
      "1   1946-05-15\n",
      "2   1946-05-15\n",
      "3   1946-05-16\n",
      "4   1946-05-16\n",
      "Name: Time, dtype: datetime64[ns]\n"
     ]
    }
   ],
   "source": [
    "print(raw_df['Time'].head())"
   ]
  },
  {
   "cell_type": "code",
   "execution_count": 42,
   "metadata": {
    "id": "c0ZmgFQoYCIM"
   },
   "outputs": [],
   "source": [
    "month_df=raw_df.set_index('Time').resample('M')['Var1','Var2','Var3','Var4','Var5','Var6'].sum()"
   ]
  },
  {
   "cell_type": "code",
   "execution_count": 43,
   "metadata": {
    "colab": {
     "base_uri": "https://localhost:8080/"
    },
    "id": "DeAQD8BKdzd_",
    "outputId": "b686d954-0a02-4837-9170-319d7bc3d8b3"
   },
   "outputs": [
    {
     "name": "stdout",
     "output_type": "stream",
     "text": [
      "                 Var1       Var2       Var3       Var4        Var5       Var6\n",
      "Time                                                                         \n",
      "1946-05-31  -2.281943 -13.191233 -13.546560 -10.475815   48.745735   1.455899\n",
      "1946-06-30 -28.072774 -21.898958 -17.556361 -10.173858   79.373126  17.609288\n",
      "1946-07-31 -36.668064 -29.920707 -26.042887 -33.321862  108.520508  38.330706\n",
      "1946-08-31 -39.601941 -32.426416 -18.212683 -26.376097  109.402345  35.585008\n",
      "1946-09-30 -48.226357 -32.703090 -34.956209 -34.921183  176.411931   4.906370\n"
     ]
    }
   ],
   "source": [
    "print(month_df.head())"
   ]
  },
  {
   "cell_type": "code",
   "execution_count": 44,
   "metadata": {
    "colab": {
     "base_uri": "https://localhost:8080/"
    },
    "id": "PUdKY6-GF1bo",
    "outputId": "552c1ad9-502a-4e88-9d5b-9774467d2426"
   },
   "outputs": [
    {
     "name": "stdout",
     "output_type": "stream",
     "text": [
      "Index(['Var1', 'Var2', 'Var3', 'Var4', 'Var5', 'Var6'], dtype='object')\n"
     ]
    }
   ],
   "source": [
    "print(month_df.columns)"
   ]
  },
  {
   "cell_type": "markdown",
   "metadata": {
    "id": "7Oov_LQrC7A_"
   },
   "source": [
    "ADF检验\n"
   ]
  },
  {
   "cell_type": "code",
   "execution_count": 45,
   "metadata": {
    "id": "CoN4IoKKDGVI"
   },
   "outputs": [],
   "source": [
    "t_list=[]\n",
    "name_list=[]\n",
    "p_list=[]\n",
    "\n",
    "for i in month_df.columns:\n",
    "     name_list.append(i)\n",
    "     test_output=list(adfuller(month_df.loc[:,i]))\n",
    "     t_list.append(test_output[0])\n",
    "     p_list.append(test_output[1])\n",
    "     adf1_df=pd.DataFrame({'name':name_list,'t_value':t_list,'p_value':p_list})"
   ]
  },
  {
   "cell_type": "code",
   "execution_count": 46,
   "metadata": {
    "colab": {
     "base_uri": "https://localhost:8080/"
    },
    "id": "K5hursQoGjef",
    "outputId": "b9e6a4e4-9c96-474b-d4c7-af0ac70fc052"
   },
   "outputs": [
    {
     "name": "stdout",
     "output_type": "stream",
     "text": [
      "   name   t_value   p_value\n",
      "0  Var1 -2.279710  0.178595\n",
      "1  Var2 -1.911637  0.326607\n",
      "2  Var3 -2.559231  0.101720\n",
      "3  Var4 -1.276212  0.639984\n",
      "4  Var5 -5.391270  0.000004\n"
     ]
    }
   ],
   "source": [
    "print(adf1_df.head())"
   ]
  },
  {
   "cell_type": "code",
   "execution_count": 47,
   "metadata": {
    "id": "lwmHh71AHKUB"
   },
   "outputs": [],
   "source": [
    "diff_month_df=month_df.diff(periods=1).dropna()\n",
    "t_list1=[]\n",
    "name_list1=[]\n",
    "p_list1=[]\n",
    "for i in diff_month_df.columns:\n",
    "  name_list1.append(i)\n",
    "  test_output1=list(adfuller(diff_month_df.loc[:,i]))\n",
    "  t_list1.append(test_output1[0])\n",
    "  p_list1.append(test_output1[1])\n",
    "  adf2_df=pd.DataFrame({'name':name_list1,'t_value':t_list1,'p_value':p_list1})"
   ]
  },
  {
   "cell_type": "code",
   "execution_count": 48,
   "metadata": {
    "colab": {
     "base_uri": "https://localhost:8080/"
    },
    "id": "L0m3ZgUPMlVy",
    "outputId": "4fb3ac86-540f-4443-9a3c-03bd187dcc39"
   },
   "outputs": [
    {
     "name": "stdout",
     "output_type": "stream",
     "text": [
      "   name    t_value       p_value\n",
      "0  Var1  -8.643798  5.337725e-14\n",
      "1  Var2  -9.952142  2.498435e-17\n",
      "2  Var3 -10.450722  1.440605e-18\n",
      "3  Var4 -11.423953  6.766772e-21\n",
      "4  Var5  -9.857478  4.320792e-17\n"
     ]
    }
   ],
   "source": [
    "print(adf2_df.head())"
   ]
  },
  {
   "cell_type": "code",
   "execution_count": 49,
   "metadata": {
    "colab": {
     "base_uri": "https://localhost:8080/"
    },
    "id": "oU2Nj8XpIbct",
    "outputId": "bdd632df-06b7-4eb1-c682-6e7a28648d31"
   },
   "outputs": [
    {
     "name": "stdout",
     "output_type": "stream",
     "text": [
      "Index(['Var1', 'Var2', 'Var3', 'Var4', 'Var5', 'Var6'], dtype='object')\n"
     ]
    }
   ],
   "source": [
    "print(diff_month_df.columns)"
   ]
  },
  {
   "cell_type": "markdown",
   "metadata": {
    "id": "aKMjjRZCP3oA"
   },
   "source": [
    "ols回归"
   ]
  },
  {
   "cell_type": "code",
   "execution_count": 50,
   "metadata": {
    "id": "K-nHq_OGMu5W"
   },
   "outputs": [],
   "source": [
    "def ols(x,y):\n",
    "  est=sm.OLS(y,sm.add_constant(x)).fit()\n",
    "  return est.summary()"
   ]
  },
  {
   "cell_type": "code",
   "execution_count": 51,
   "metadata": {
    "id": "y7W5aD8P85m_"
   },
   "outputs": [],
   "source": [
    "def olsre(df):\n",
    "  olsr=list()\n",
    "  for i in df.columns:\n",
    "    y=df[i]\n",
    "    x=df.drop([i],axis=1)\n",
    "    ols(x,y)\n",
    "    olsr.append(ols(x,y))\n",
    "  return olsr"
   ]
  },
  {
   "cell_type": "code",
   "execution_count": 52,
   "metadata": {
    "colab": {
     "base_uri": "https://localhost:8080/"
    },
    "id": "hSeqATeBUVzU",
    "outputId": "91c08797-a033-459d-b601-f6f4ffd3eb80"
   },
   "outputs": [
    {
     "data": {
      "text/plain": [
       "[<class 'statsmodels.iolib.summary.Summary'>\n",
       " \"\"\"\n",
       "                             OLS Regression Results                            \n",
       " ==============================================================================\n",
       " Dep. Variable:                   Var1   R-squared:                       0.177\n",
       " Model:                            OLS   Adj. R-squared:                  0.170\n",
       " Method:                 Least Squares   F-statistic:                     27.86\n",
       " Date:                Wed, 18 Nov 2020   Prob (F-statistic):           1.32e-25\n",
       " Time:                        22:40:39   Log-Likelihood:                -3260.5\n",
       " No. Observations:                 655   AIC:                             6533.\n",
       " Df Residuals:                     649   BIC:                             6560.\n",
       " Df Model:                           5                                         \n",
       " Covariance Type:            nonrobust                                         \n",
       " ==============================================================================\n",
       "                  coef    std err          t      P>|t|      [0.025      0.975]\n",
       " ------------------------------------------------------------------------------\n",
       " const          0.0063      1.379      0.005      0.996      -2.701       2.714\n",
       " Var2          -0.2344      0.053     -4.445      0.000      -0.338      -0.131\n",
       " Var3          -0.1661      0.052     -3.170      0.002      -0.269      -0.063\n",
       " Var4          -0.3686      0.057     -6.430      0.000      -0.481      -0.256\n",
       " Var5          -0.2478      0.047     -5.318      0.000      -0.339      -0.156\n",
       " Var6          -0.2223      0.032     -6.906      0.000      -0.286      -0.159\n",
       " ==============================================================================\n",
       " Omnibus:                      124.179   Durbin-Watson:                   2.623\n",
       " Prob(Omnibus):                  0.000   Jarque-Bera (JB):             2401.157\n",
       " Skew:                           0.146   Prob(JB):                         0.00\n",
       " Kurtosis:                      12.375   Cond. No.                         56.8\n",
       " ==============================================================================\n",
       " \n",
       " Notes:\n",
       " [1] Standard Errors assume that the covariance matrix of the errors is correctly specified.\n",
       " \"\"\",\n",
       " <class 'statsmodels.iolib.summary.Summary'>\n",
       " \"\"\"\n",
       "                             OLS Regression Results                            \n",
       " ==============================================================================\n",
       " Dep. Variable:                   Var2   R-squared:                       0.350\n",
       " Model:                            OLS   Adj. R-squared:                  0.345\n",
       " Method:                 Least Squares   F-statistic:                     69.94\n",
       " Date:                Wed, 18 Nov 2020   Prob (F-statistic):           1.67e-58\n",
       " Time:                        22:40:39   Log-Likelihood:                -3057.3\n",
       " No. Observations:                 655   AIC:                             6127.\n",
       " Df Residuals:                     649   BIC:                             6153.\n",
       " Df Model:                           5                                         \n",
       " Covariance Type:            nonrobust                                         \n",
       " ==============================================================================\n",
       "                  coef    std err          t      P>|t|      [0.025      0.975]\n",
       " ------------------------------------------------------------------------------\n",
       " const         -0.0108      1.011     -0.011      0.991      -1.996       1.974\n",
       " Var1          -0.1260      0.028     -4.445      0.000      -0.182      -0.070\n",
       " Var3           0.0699      0.039      1.810      0.071      -0.006       0.146\n",
       " Var4           0.3763      0.041      9.232      0.000       0.296       0.456\n",
       " Var5          -0.2206      0.034     -6.523      0.000      -0.287      -0.154\n",
       " Var6          -0.1203      0.024     -5.011      0.000      -0.167      -0.073\n",
       " ==============================================================================\n",
       " Omnibus:                       49.915   Durbin-Watson:                   2.614\n",
       " Prob(Omnibus):                  0.000   Jarque-Bera (JB):              227.941\n",
       " Skew:                          -0.065   Prob(JB):                     3.19e-50\n",
       " Kurtosis:                       5.887   Cond. No.                         54.6\n",
       " ==============================================================================\n",
       " \n",
       " Notes:\n",
       " [1] Standard Errors assume that the covariance matrix of the errors is correctly specified.\n",
       " \"\"\",\n",
       " <class 'statsmodels.iolib.summary.Summary'>\n",
       " \"\"\"\n",
       "                             OLS Regression Results                            \n",
       " ==============================================================================\n",
       " Dep. Variable:                   Var3   R-squared:                       0.140\n",
       " Model:                            OLS   Adj. R-squared:                  0.133\n",
       " Method:                 Least Squares   F-statistic:                     21.09\n",
       " Date:                Wed, 18 Nov 2020   Prob (F-statistic):           1.45e-19\n",
       " Time:                        22:40:39   Log-Likelihood:                -3066.3\n",
       " No. Observations:                 655   AIC:                             6145.\n",
       " Df Residuals:                     649   BIC:                             6172.\n",
       " Df Model:                           5                                         \n",
       " Covariance Type:            nonrobust                                         \n",
       " ==============================================================================\n",
       "                  coef    std err          t      P>|t|      [0.025      0.975]\n",
       " ------------------------------------------------------------------------------\n",
       " const          0.0385      1.025      0.038      0.970      -1.974       2.051\n",
       " Var1          -0.0918      0.029     -3.170      0.002      -0.149      -0.035\n",
       " Var2           0.0718      0.040      1.810      0.071      -0.006       0.150\n",
       " Var4           0.0913      0.044      2.083      0.038       0.005       0.177\n",
       " Var5           0.0259      0.035      0.733      0.464      -0.044       0.095\n",
       " Var6          -0.1274      0.024     -5.244      0.000      -0.175      -0.080\n",
       " ==============================================================================\n",
       " Omnibus:                       69.551   Durbin-Watson:                   2.814\n",
       " Prob(Omnibus):                  0.000   Jarque-Bera (JB):              344.212\n",
       " Skew:                          -0.313   Prob(JB):                     1.80e-75\n",
       " Kurtosis:                       6.496   Cond. No.                         55.9\n",
       " ==============================================================================\n",
       " \n",
       " Notes:\n",
       " [1] Standard Errors assume that the covariance matrix of the errors is correctly specified.\n",
       " \"\"\",\n",
       " <class 'statsmodels.iolib.summary.Summary'>\n",
       " \"\"\"\n",
       "                             OLS Regression Results                            \n",
       " ==============================================================================\n",
       " Dep. Variable:                   Var4   R-squared:                       0.417\n",
       " Model:                            OLS   Adj. R-squared:                  0.412\n",
       " Method:                 Least Squares   F-statistic:                     92.75\n",
       " Date:                Wed, 18 Nov 2020   Prob (F-statistic):           1.24e-73\n",
       " Time:                        22:40:39   Log-Likelihood:                -2992.2\n",
       " No. Observations:                 655   AIC:                             5996.\n",
       " Df Residuals:                     649   BIC:                             6023.\n",
       " Df Model:                           5                                         \n",
       " Covariance Type:            nonrobust                                         \n",
       " ==============================================================================\n",
       "                  coef    std err          t      P>|t|      [0.025      0.975]\n",
       " ------------------------------------------------------------------------------\n",
       " const          0.0496      0.915      0.054      0.957      -1.748       1.847\n",
       " Var1          -0.1625      0.025     -6.430      0.000      -0.212      -0.113\n",
       " Var2           0.3085      0.033      9.232      0.000       0.243       0.374\n",
       " Var3           0.0728      0.035      2.083      0.038       0.004       0.141\n",
       " Var5          -0.0602      0.032     -1.910      0.057      -0.122       0.002\n",
       " Var6          -0.2116      0.021    -10.310      0.000      -0.252      -0.171\n",
       " ==============================================================================\n",
       " Omnibus:                       90.300   Durbin-Watson:                   2.703\n",
       " Prob(Omnibus):                  0.000   Jarque-Bera (JB):              744.976\n",
       " Skew:                           0.277   Prob(JB):                    1.70e-162\n",
       " Kurtosis:                       8.195   Cond. No.                         53.7\n",
       " ==============================================================================\n",
       " \n",
       " Notes:\n",
       " [1] Standard Errors assume that the covariance matrix of the errors is correctly specified.\n",
       " \"\"\",\n",
       " <class 'statsmodels.iolib.summary.Summary'>\n",
       " \"\"\"\n",
       "                             OLS Regression Results                            \n",
       " ==============================================================================\n",
       " Dep. Variable:                   Var5   R-squared:                       0.109\n",
       " Model:                            OLS   Adj. R-squared:                  0.102\n",
       " Method:                 Least Squares   F-statistic:                     15.93\n",
       " Date:                Wed, 18 Nov 2020   Prob (F-statistic):           8.09e-15\n",
       " Time:                        22:40:39   Log-Likelihood:                -3134.3\n",
       " No. Observations:                 655   AIC:                             6281.\n",
       " Df Residuals:                     649   BIC:                             6307.\n",
       " Df Model:                           5                                         \n",
       " Covariance Type:            nonrobust                                         \n",
       " ==============================================================================\n",
       "                  coef    std err          t      P>|t|      [0.025      0.975]\n",
       " ------------------------------------------------------------------------------\n",
       " const         -0.0828      1.137     -0.073      0.942      -2.316       2.150\n",
       " Var1          -0.1685      0.032     -5.318      0.000      -0.231      -0.106\n",
       " Var2          -0.2790      0.043     -6.523      0.000      -0.363      -0.195\n",
       " Var3           0.0319      0.044      0.733      0.464      -0.054       0.117\n",
       " Var4          -0.0929      0.049     -1.910      0.057      -0.188       0.003\n",
       " Var6          -0.1365      0.027     -5.058      0.000      -0.189      -0.083\n",
       " ==============================================================================\n",
       " Omnibus:                       62.511   Durbin-Watson:                   2.559\n",
       " Prob(Omnibus):                  0.000   Jarque-Bera (JB):              370.486\n",
       " Skew:                           0.075   Prob(JB):                     3.55e-81\n",
       " Kurtosis:                       6.681   Cond. No.                         57.1\n",
       " ==============================================================================\n",
       " \n",
       " Notes:\n",
       " [1] Standard Errors assume that the covariance matrix of the errors is correctly specified.\n",
       " \"\"\",\n",
       " <class 'statsmodels.iolib.summary.Summary'>\n",
       " \"\"\"\n",
       "                             OLS Regression Results                            \n",
       " ==============================================================================\n",
       " Dep. Variable:                   Var6   R-squared:                       0.336\n",
       " Model:                            OLS   Adj. R-squared:                  0.330\n",
       " Method:                 Least Squares   F-statistic:                     65.57\n",
       " Date:                Wed, 18 Nov 2020   Prob (F-statistic):           2.07e-55\n",
       " Time:                        22:40:39   Log-Likelihood:                -3367.1\n",
       " No. Observations:                 655   AIC:                             6746.\n",
       " Df Residuals:                     649   BIC:                             6773.\n",
       " Df Model:                           5                                         \n",
       " Covariance Type:            nonrobust                                         \n",
       " ==============================================================================\n",
       "                  coef    std err          t      P>|t|      [0.025      0.975]\n",
       " ------------------------------------------------------------------------------\n",
       " const         -0.0080      1.623     -0.005      0.996      -3.194       3.178\n",
       " Var1          -0.3079      0.045     -6.906      0.000      -0.395      -0.220\n",
       " Var2          -0.3097      0.062     -5.011      0.000      -0.431      -0.188\n",
       " Var3          -0.3192      0.061     -5.244      0.000      -0.439      -0.200\n",
       " Var4          -0.6650      0.065    -10.310      0.000      -0.792      -0.538\n",
       " Var5          -0.2779      0.055     -5.058      0.000      -0.386      -0.170\n",
       " ==============================================================================\n",
       " Omnibus:                      217.097   Durbin-Watson:                   2.443\n",
       " Prob(Omnibus):                  0.000   Jarque-Bera (JB):             9852.561\n",
       " Skew:                          -0.689   Prob(JB):                         0.00\n",
       " Kurtosis:                      21.950   Cond. No.                         45.1\n",
       " ==============================================================================\n",
       " \n",
       " Notes:\n",
       " [1] Standard Errors assume that the covariance matrix of the errors is correctly specified.\n",
       " \"\"\"]"
      ]
     },
     "execution_count": 52,
     "metadata": {},
     "output_type": "execute_result"
    }
   ],
   "source": [
    "olsre(diff_month_df)"
   ]
  },
  {
   "cell_type": "markdown",
   "metadata": {
    "id": "TuBCF0U_ZkPs"
   },
   "source": [
    "VAR\n"
   ]
  },
  {
   "cell_type": "code",
   "execution_count": 53,
   "metadata": {
    "colab": {
     "base_uri": "https://localhost:8080/"
    },
    "id": "X16NAijrZkJx",
    "outputId": "bcc898ce-fdc1-4b64-ca40-d84afb00a9c2"
   },
   "outputs": [
    {
     "name": "stderr",
     "output_type": "stream",
     "text": [
      "d:\\python安装\\lib\\site-packages\\statsmodels\\tsa\\base\\tsa_model.py:524: ValueWarning: No frequency information was provided, so inferred frequency M will be used.\n",
      "  warnings.warn('No frequency information was'\n"
     ]
    }
   ],
   "source": [
    "var_df=diff_month_df.dropna()\n",
    "var_mod=sm.tsa.VAR(var_df.loc['1946-06-30':])\n"
   ]
  },
  {
   "cell_type": "code",
   "execution_count": 54,
   "metadata": {
    "id": "skM8ML9rnBsH"
   },
   "outputs": [],
   "source": [
    "lag_order=var_mod.select_order()"
   ]
  },
  {
   "cell_type": "code",
   "execution_count": 55,
   "metadata": {
    "id": "DjJwlGOEnO8X"
   },
   "outputs": [],
   "source": [
    "ic=lag_order.summary()"
   ]
  },
  {
   "cell_type": "code",
   "execution_count": 56,
   "metadata": {
    "id": "qk-SlPV6nbno"
   },
   "outputs": [],
   "source": [
    "res=var_mod.fit(ic='aic')"
   ]
  },
  {
   "cell_type": "code",
   "execution_count": 57,
   "metadata": {
    "colab": {
     "base_uri": "https://localhost:8080/"
    },
    "id": "UpSFJkO2mjvK",
    "outputId": "55d4feba-2e0b-45ce-cda2-195ac6f78053"
   },
   "outputs": [
    {
     "name": "stdout",
     "output_type": "stream",
     "text": [
      " VAR Order Selection (* highlights the minimums)  \n",
      "==================================================\n",
      "       AIC         BIC         FPE         HQIC   \n",
      "--------------------------------------------------\n",
      "0        41.61       41.66   1.182e+18       41.63\n",
      "1        41.02       41.32   6.550e+17       41.14\n",
      "2        40.69      41.23*   4.678e+17       40.90\n",
      "3        40.45       41.25   3.691e+17       40.76\n",
      "4        40.20       41.25   2.869e+17      40.61*\n",
      "5        40.18       41.48   2.806e+17       40.68\n",
      "6        40.19       41.74   2.846e+17       40.79\n",
      "7        40.18       41.99   2.834e+17       40.89\n",
      "8        40.14       42.20   2.715e+17       40.94\n",
      "9        40.12       42.43   2.660e+17       41.02\n",
      "10       40.08       42.65   2.564e+17       41.08\n",
      "11      40.01*       42.82  2.378e+17*       41.10\n",
      "12       40.06       43.13   2.514e+17       41.25\n",
      "13       40.10       43.42   2.614e+17       41.39\n",
      "14       40.11       43.68   2.645e+17       41.49\n",
      "15       40.14       43.96   2.736e+17       41.62\n",
      "16       40.18       44.26   2.866e+17       41.77\n",
      "17       40.23       44.56   3.019e+17       41.91\n",
      "18       40.28       44.86   3.171e+17       42.06\n",
      "19       40.32       45.15   3.317e+17       42.20\n",
      "--------------------------------------------------\n"
     ]
    }
   ],
   "source": [
    "print(ic)"
   ]
  },
  {
   "cell_type": "code",
   "execution_count": 58,
   "metadata": {
    "colab": {
     "base_uri": "https://localhost:8080/"
    },
    "id": "5BBOjoxvoD25",
    "outputId": "d2086f52-22c1-408d-968f-e2e08be9d1da"
   },
   "outputs": [
    {
     "name": "stdout",
     "output_type": "stream",
     "text": [
      "  Summary of Regression Results   \n",
      "==================================\n",
      "Model:                         VAR\n",
      "Method:                        OLS\n",
      "Date:           Wed, 18, Nov, 2020\n",
      "Time:                     22:40:40\n",
      "--------------------------------------------------------------------\n",
      "No. of Equations:         6.00000    BIC:                    42.7228\n",
      "Nobs:                     644.000    HQIC:                   41.0161\n",
      "Log likelihood:          -17939.5    FPE:                2.21341e+17\n",
      "AIC:                      39.9339    Det(Omega_mle):     1.22225e+17\n",
      "--------------------------------------------------------------------\n",
      "Results for equation Var1\n",
      "===========================================================================\n",
      "              coefficient       std. error           t-stat            prob\n",
      "---------------------------------------------------------------------------\n",
      "const            0.002884         1.264081            0.002           0.998\n",
      "L1.Var1         -0.532178         0.045088          -11.803           0.000\n",
      "L1.Var2         -0.004849         0.061469           -0.079           0.937\n",
      "L1.Var3          0.115939         0.063001            1.840           0.066\n",
      "L1.Var4         -0.007836         0.069840           -0.112           0.911\n",
      "L1.Var5          0.004788         0.052508            0.091           0.927\n",
      "L1.Var6          0.055030         0.037340            1.474           0.141\n",
      "L2.Var1         -0.556599         0.053039          -10.494           0.000\n",
      "L2.Var2         -0.040355         0.069267           -0.583           0.560\n",
      "L2.Var3          0.012628         0.076152            0.166           0.868\n",
      "L2.Var4         -0.030396         0.081127           -0.375           0.708\n",
      "L2.Var5         -0.039350         0.058016           -0.678           0.498\n",
      "L2.Var6         -0.041304         0.041252           -1.001           0.317\n",
      "L3.Var1         -0.501887         0.059736           -8.402           0.000\n",
      "L3.Var2         -0.085090         0.073697           -1.155           0.248\n",
      "L3.Var3          0.135675         0.084159            1.612           0.107\n",
      "L3.Var4          0.078977         0.091126            0.867           0.386\n",
      "L3.Var5          0.019087         0.061190            0.312           0.755\n",
      "L3.Var6          0.051620         0.044774            1.153           0.249\n",
      "L4.Var1         -0.482657         0.064037           -7.537           0.000\n",
      "L4.Var2          0.036932         0.075822            0.487           0.626\n",
      "L4.Var3          0.089378         0.088068            1.015           0.310\n",
      "L4.Var4          0.006663         0.094867            0.070           0.944\n",
      "L4.Var5         -0.072309         0.064760           -1.117           0.264\n",
      "L4.Var6          0.072059         0.047729            1.510           0.131\n",
      "L5.Var1         -0.306051         0.067009           -4.567           0.000\n",
      "L5.Var2         -0.002823         0.075930           -0.037           0.970\n",
      "L5.Var3          0.170095         0.091536            1.858           0.063\n",
      "L5.Var4         -0.019215         0.099416           -0.193           0.847\n",
      "L5.Var5         -0.100873         0.065762           -1.534           0.125\n",
      "L5.Var6          0.007042         0.050166            0.140           0.888\n",
      "L6.Var1         -0.266978         0.068157           -3.917           0.000\n",
      "L6.Var2          0.002811         0.076127            0.037           0.971\n",
      "L6.Var3          0.150044         0.091848            1.634           0.102\n",
      "L6.Var4          0.017297         0.100376            0.172           0.863\n",
      "L6.Var5         -0.105130         0.066001           -1.593           0.111\n",
      "L6.Var6          0.034053         0.050378            0.676           0.499\n",
      "L7.Var1         -0.236823         0.068118           -3.477           0.001\n",
      "L7.Var2          0.000933         0.075651            0.012           0.990\n",
      "L7.Var3          0.029019         0.090092            0.322           0.747\n",
      "L7.Var4          0.002309         0.100445            0.023           0.982\n",
      "L7.Var5         -0.147854         0.064953           -2.276           0.023\n",
      "L7.Var6         -0.001793         0.049875           -0.036           0.971\n",
      "L8.Var1         -0.261302         0.065282           -4.003           0.000\n",
      "L8.Var2         -0.025696         0.075231           -0.342           0.733\n",
      "L8.Var3         -0.036606         0.086562           -0.423           0.672\n",
      "L8.Var4          0.130470         0.096528            1.352           0.176\n",
      "L8.Var5         -0.029379         0.064366           -0.456           0.648\n",
      "L8.Var6          0.026794         0.047654            0.562           0.574\n",
      "L9.Var1         -0.230716         0.060973           -3.784           0.000\n",
      "L9.Var2          0.084378         0.072380            1.166           0.244\n",
      "L9.Var3         -0.031756         0.082860           -0.383           0.702\n",
      "L9.Var4         -0.000571         0.092969           -0.006           0.995\n",
      "L9.Var5         -0.061149         0.061886           -0.988           0.323\n",
      "L9.Var6          0.039523         0.044149            0.895           0.371\n",
      "L10.Var1        -0.178374         0.054101           -3.297           0.001\n",
      "L10.Var2         0.144845         0.068174            2.125           0.034\n",
      "L10.Var3         0.058764         0.076001            0.773           0.439\n",
      "L10.Var4        -0.000665         0.082766           -0.008           0.994\n",
      "L10.Var5         0.030687         0.058417            0.525           0.599\n",
      "L10.Var6         0.039983         0.040626            0.984           0.325\n",
      "L11.Var1        -0.168548         0.046067           -3.659           0.000\n",
      "L11.Var2         0.078429         0.061416            1.277           0.202\n",
      "L11.Var3        -0.068697         0.063275           -1.086           0.278\n",
      "L11.Var4         0.055802         0.071370            0.782           0.434\n",
      "L11.Var5        -0.063490         0.052443           -1.211           0.226\n",
      "L11.Var6        -0.006939         0.036436           -0.190           0.849\n",
      "===========================================================================\n",
      "\n",
      "Results for equation Var2\n",
      "===========================================================================\n",
      "              coefficient       std. error           t-stat            prob\n",
      "---------------------------------------------------------------------------\n",
      "const            0.272494         1.096056            0.249           0.804\n",
      "L1.Var1         -0.122891         0.039094           -3.143           0.002\n",
      "L1.Var2         -0.516031         0.053298           -9.682           0.000\n",
      "L1.Var3         -0.010411         0.054627           -0.191           0.849\n",
      "L1.Var4         -0.101873         0.060557           -1.682           0.093\n",
      "L1.Var5         -0.044446         0.045528           -0.976           0.329\n",
      "L1.Var6         -0.058509         0.032376           -1.807           0.071\n",
      "L2.Var1         -0.066835         0.045989           -1.453           0.146\n",
      "L2.Var2         -0.482958         0.060060           -8.041           0.000\n",
      "L2.Var3         -0.062479         0.066029           -0.946           0.344\n",
      "L2.Var4         -0.011267         0.070344           -0.160           0.873\n",
      "L2.Var5         -0.045097         0.050304           -0.896           0.370\n",
      "L2.Var6         -0.062624         0.035769           -1.751           0.080\n",
      "L3.Var1         -0.060950         0.051795           -1.177           0.239\n",
      "L3.Var2         -0.378558         0.063901           -5.924           0.000\n",
      "L3.Var3          0.050905         0.072973            0.698           0.485\n",
      "L3.Var4         -0.155902         0.079013           -1.973           0.048\n",
      "L3.Var5         -0.112581         0.053056           -2.122           0.034\n",
      "L3.Var6         -0.059479         0.038823           -1.532           0.126\n",
      "L4.Var1         -0.051570         0.055525           -0.929           0.353\n",
      "L4.Var2         -0.382141         0.065743           -5.813           0.000\n",
      "L4.Var3          0.091835         0.076362            1.203           0.229\n",
      "L4.Var4         -0.046512         0.082257           -0.565           0.572\n",
      "L4.Var5         -0.141200         0.056152           -2.515           0.012\n",
      "L4.Var6         -0.098930         0.041385           -2.390           0.017\n",
      "L5.Var1         -0.115081         0.058102           -1.981           0.048\n",
      "L5.Var2         -0.366071         0.065837           -5.560           0.000\n",
      "L5.Var3         -0.042083         0.079368           -0.530           0.596\n",
      "L5.Var4         -0.019978         0.086202           -0.232           0.817\n",
      "L5.Var5         -0.030377         0.057021           -0.533           0.594\n",
      "L5.Var6         -0.054383         0.043498           -1.250           0.211\n",
      "L6.Var1         -0.120510         0.059098           -2.039           0.041\n",
      "L6.Var2         -0.314293         0.066008           -4.761           0.000\n",
      "L6.Var3         -0.084018         0.079639           -1.055           0.291\n",
      "L6.Var4         -0.070496         0.087034           -0.810           0.418\n",
      "L6.Var5         -0.080073         0.057228           -1.399           0.162\n",
      "L6.Var6         -0.088777         0.043681           -2.032           0.042\n",
      "L7.Var1         -0.120891         0.059064           -2.047           0.041\n",
      "L7.Var2         -0.384773         0.065595           -5.866           0.000\n",
      "L7.Var3         -0.121673         0.078117           -1.558           0.119\n",
      "L7.Var4          0.055456         0.087093            0.637           0.524\n",
      "L7.Var5         -0.077843         0.056319           -1.382           0.167\n",
      "L7.Var6         -0.094952         0.043245           -2.196           0.028\n",
      "L8.Var1         -0.065475         0.056605           -1.157           0.247\n",
      "L8.Var2         -0.218834         0.065231           -3.355           0.001\n",
      "L8.Var3         -0.052070         0.075056           -0.694           0.488\n",
      "L8.Var4         -0.094722         0.083697           -1.132           0.258\n",
      "L8.Var5         -0.079692         0.055810           -1.428           0.153\n",
      "L8.Var6         -0.084692         0.041320           -2.050           0.040\n",
      "L9.Var1          0.018997         0.052869            0.359           0.719\n",
      "L9.Var2         -0.235766         0.062759           -3.757           0.000\n",
      "L9.Var3          0.053919         0.071846            0.750           0.453\n",
      "L9.Var4         -0.068655         0.080611           -0.852           0.394\n",
      "L9.Var5         -0.081065         0.053660           -1.511           0.131\n",
      "L9.Var6         -0.059399         0.038281           -1.552           0.121\n",
      "L10.Var1         0.061132         0.046910            1.303           0.193\n",
      "L10.Var2        -0.173680         0.059112           -2.938           0.003\n",
      "L10.Var3         0.104806         0.065899            1.590           0.112\n",
      "L10.Var4        -0.039239         0.071765           -0.547           0.585\n",
      "L10.Var5        -0.061175         0.050652           -1.208           0.227\n",
      "L10.Var6        -0.004220         0.035226           -0.120           0.905\n",
      "L11.Var1         0.033741         0.039944            0.845           0.398\n",
      "L11.Var2        -0.074100         0.053253           -1.391           0.164\n",
      "L11.Var3         0.084355         0.054864            1.538           0.124\n",
      "L11.Var4        -0.027666         0.061883           -0.447           0.655\n",
      "L11.Var5        -0.058682         0.045472           -1.291           0.197\n",
      "L11.Var6         0.020482         0.031593            0.648           0.517\n",
      "===========================================================================\n",
      "\n",
      "Results for equation Var3\n",
      "===========================================================================\n",
      "              coefficient       std. error           t-stat            prob\n",
      "---------------------------------------------------------------------------\n",
      "const            0.573081         0.898756            0.638           0.524\n",
      "L1.Var1          0.014449         0.032057            0.451           0.652\n",
      "L1.Var2          0.035163         0.043704            0.805           0.421\n",
      "L1.Var3         -0.730434         0.044793          -16.307           0.000\n",
      "L1.Var4         -0.029065         0.049656           -0.585           0.558\n",
      "L1.Var5          0.097040         0.037333            2.599           0.009\n",
      "L1.Var6         -0.052969         0.026548           -1.995           0.046\n",
      "L2.Var1         -0.028968         0.037711           -0.768           0.442\n",
      "L2.Var2         -0.015388         0.049249           -0.312           0.755\n",
      "L2.Var3         -0.673482         0.054143          -12.439           0.000\n",
      "L2.Var4         -0.038049         0.057681           -0.660           0.509\n",
      "L2.Var5          0.042186         0.041249            1.023           0.306\n",
      "L2.Var6         -0.025833         0.029330           -0.881           0.378\n",
      "L3.Var1          0.006019         0.042472            0.142           0.887\n",
      "L3.Var2         -0.081992         0.052398           -1.565           0.118\n",
      "L3.Var3         -0.561578         0.059837           -9.385           0.000\n",
      "L3.Var4         -0.042096         0.064790           -0.650           0.516\n",
      "L3.Var5          0.018937         0.043506            0.435           0.663\n",
      "L3.Var6         -0.040663         0.031834           -1.277           0.201\n",
      "L4.Var1         -0.016999         0.045530           -0.373           0.709\n",
      "L4.Var2          0.003258         0.053909            0.060           0.952\n",
      "L4.Var3         -0.557314         0.062616           -8.901           0.000\n",
      "L4.Var4         -0.102012         0.067450           -1.512           0.130\n",
      "L4.Var5          0.034095         0.046044            0.740           0.459\n",
      "L4.Var6         -0.076360         0.033935           -2.250           0.024\n",
      "L5.Var1         -0.039252         0.047643           -0.824           0.410\n",
      "L5.Var2         -0.054679         0.053986           -1.013           0.311\n",
      "L5.Var3         -0.453110         0.065081           -6.962           0.000\n",
      "L5.Var4         -0.039341         0.070684           -0.557           0.578\n",
      "L5.Var5          0.105165         0.046756            2.249           0.024\n",
      "L5.Var6         -0.038674         0.035668           -1.084           0.278\n",
      "L6.Var1         -0.042433         0.048460           -0.876           0.381\n",
      "L6.Var2          0.046488         0.054126            0.859           0.390\n",
      "L6.Var3         -0.338554         0.065303           -5.184           0.000\n",
      "L6.Var4         -0.157782         0.071367           -2.211           0.027\n",
      "L6.Var5          0.135094         0.046927            2.879           0.004\n",
      "L6.Var6         -0.049696         0.035818           -1.387           0.165\n",
      "L7.Var1         -0.016563         0.048432           -0.342           0.732\n",
      "L7.Var2         -0.054523         0.053788           -1.014           0.311\n",
      "L7.Var3         -0.230624         0.064055           -3.600           0.000\n",
      "L7.Var4         -0.028457         0.071416           -0.398           0.690\n",
      "L7.Var5          0.160348         0.046181            3.472           0.001\n",
      "L7.Var6          0.011129         0.035461            0.314           0.754\n",
      "L8.Var1         -0.037664         0.046416           -0.811           0.417\n",
      "L8.Var2         -0.022597         0.053489           -0.422           0.673\n",
      "L8.Var3         -0.228511         0.061545           -3.713           0.000\n",
      "L8.Var4         -0.064544         0.068631           -0.940           0.347\n",
      "L8.Var5          0.197124         0.045764            4.307           0.000\n",
      "L8.Var6          0.010938         0.033882            0.323           0.747\n",
      "L9.Var1          0.021062         0.043352            0.486           0.627\n",
      "L9.Var2          0.058722         0.051462            1.141           0.254\n",
      "L9.Var3         -0.209866         0.058913           -3.562           0.000\n",
      "L9.Var4         -0.069989         0.066100           -1.059           0.290\n",
      "L9.Var5          0.175850         0.044001            3.997           0.000\n",
      "L9.Var6          0.034094         0.031390            1.086           0.277\n",
      "L10.Var1         0.030183         0.038466            0.785           0.433\n",
      "L10.Var2        -0.017788         0.048471           -0.367           0.714\n",
      "L10.Var3        -0.144541         0.054037           -2.675           0.007\n",
      "L10.Var4         0.048334         0.058846            0.821           0.411\n",
      "L10.Var5         0.160776         0.041535            3.871           0.000\n",
      "L10.Var6         0.032545         0.028885            1.127           0.260\n",
      "L11.Var1         0.051172         0.032754            1.562           0.118\n",
      "L11.Var2         0.049816         0.043667            1.141           0.254\n",
      "L11.Var3        -0.061218         0.044988           -1.361           0.174\n",
      "L11.Var4         0.028319         0.050744            0.558           0.577\n",
      "L11.Var5         0.118611         0.037286            3.181           0.001\n",
      "L11.Var6         0.067148         0.025906            2.592           0.010\n",
      "===========================================================================\n",
      "\n",
      "Results for equation Var4\n",
      "===========================================================================\n",
      "              coefficient       std. error           t-stat            prob\n",
      "---------------------------------------------------------------------------\n",
      "const            0.487274         1.012373            0.481           0.630\n",
      "L1.Var1         -0.048316         0.036110           -1.338           0.181\n",
      "L1.Var2          0.000228         0.049229            0.005           0.996\n",
      "L1.Var3         -0.002427         0.050456           -0.048           0.962\n",
      "L1.Var4         -0.683019         0.055933          -12.211           0.000\n",
      "L1.Var5         -0.058198         0.042052           -1.384           0.166\n",
      "L1.Var6         -0.105561         0.029905           -3.530           0.000\n",
      "L2.Var1         -0.023861         0.042478           -0.562           0.574\n",
      "L2.Var2         -0.034008         0.055475           -0.613           0.540\n",
      "L2.Var3         -0.040776         0.060988           -0.669           0.504\n",
      "L2.Var4         -0.604222         0.064973           -9.300           0.000\n",
      "L2.Var5          0.002100         0.046464            0.045           0.964\n",
      "L2.Var6         -0.071790         0.033038           -2.173           0.030\n",
      "L3.Var1         -0.025307         0.047841           -0.529           0.597\n",
      "L3.Var2         -0.085974         0.059022           -1.457           0.145\n",
      "L3.Var3          0.013199         0.067401            0.196           0.845\n",
      "L3.Var4         -0.497644         0.072981           -6.819           0.000\n",
      "L3.Var5         -0.118159         0.049006           -2.411           0.016\n",
      "L3.Var6         -0.065457         0.035859           -1.825           0.068\n",
      "L4.Var1         -0.011439         0.051285           -0.223           0.823\n",
      "L4.Var2         -0.018940         0.060724           -0.312           0.755\n",
      "L4.Var3         -0.011176         0.070531           -0.158           0.874\n",
      "L4.Var4         -0.463864         0.075977           -6.105           0.000\n",
      "L4.Var5         -0.085396         0.051864           -1.647           0.100\n",
      "L4.Var6         -0.127542         0.038225           -3.337           0.001\n",
      "L5.Var1         -0.045864         0.053666           -0.855           0.393\n",
      "L5.Var2         -0.129109         0.060811           -2.123           0.034\n",
      "L5.Var3         -0.020789         0.073309           -0.284           0.777\n",
      "L5.Var4         -0.272407         0.079620           -3.421           0.001\n",
      "L5.Var5         -0.024540         0.052667           -0.466           0.641\n",
      "L5.Var6         -0.087986         0.040177           -2.190           0.029\n",
      "L6.Var1         -0.064147         0.054586           -1.175           0.240\n",
      "L6.Var2         -0.085616         0.060969           -1.404           0.160\n",
      "L6.Var3         -0.027355         0.073559           -0.372           0.710\n",
      "L6.Var4         -0.317234         0.080389           -3.946           0.000\n",
      "L6.Var5         -0.049465         0.052859           -0.936           0.349\n",
      "L6.Var6         -0.118207         0.040346           -2.930           0.003\n",
      "L7.Var1         -0.056322         0.054554           -1.032           0.302\n",
      "L7.Var2         -0.032602         0.060587           -0.538           0.591\n",
      "L7.Var3         -0.002177         0.072152           -0.030           0.976\n",
      "L7.Var4         -0.262290         0.080444           -3.261           0.001\n",
      "L7.Var5         -0.091660         0.052019           -1.762           0.078\n",
      "L7.Var6         -0.072777         0.039943           -1.822           0.068\n",
      "L8.Var1         -0.013760         0.052283           -0.263           0.792\n",
      "L8.Var2         -0.041501         0.060250           -0.689           0.491\n",
      "L8.Var3          0.062159         0.069325            0.897           0.370\n",
      "L8.Var4         -0.364707         0.077307           -4.718           0.000\n",
      "L8.Var5         -0.099890         0.051549           -1.938           0.053\n",
      "L8.Var6         -0.083839         0.038165           -2.197           0.028\n",
      "L9.Var1          0.007452         0.048832            0.153           0.879\n",
      "L9.Var2         -0.032052         0.057968           -0.553           0.580\n",
      "L9.Var3          0.060400         0.066360            0.910           0.363\n",
      "L9.Var4         -0.259907         0.074456           -3.491           0.000\n",
      "L9.Var5         -0.032638         0.049563           -0.659           0.510\n",
      "L9.Var6         -0.074908         0.035358           -2.119           0.034\n",
      "L10.Var1         0.045449         0.043328            1.049           0.294\n",
      "L10.Var2         0.029721         0.054599            0.544           0.586\n",
      "L10.Var3         0.064011         0.060868            1.052           0.293\n",
      "L10.Var4        -0.268546         0.066285           -4.051           0.000\n",
      "L10.Var5        -0.016201         0.046785           -0.346           0.729\n",
      "L10.Var6        -0.047269         0.032537           -1.453           0.146\n",
      "L11.Var1         0.041318         0.036894            1.120           0.263\n",
      "L11.Var2        -0.015003         0.049187           -0.305           0.760\n",
      "L11.Var3         0.041954         0.050675            0.828           0.408\n",
      "L11.Var4        -0.195481         0.057158           -3.420           0.001\n",
      "L11.Var5        -0.022284         0.042000           -0.531           0.596\n",
      "L11.Var6        -0.027476         0.029181           -0.942           0.346\n",
      "===========================================================================\n",
      "\n",
      "Results for equation Var5\n",
      "===========================================================================\n",
      "              coefficient       std. error           t-stat            prob\n",
      "---------------------------------------------------------------------------\n",
      "const           -0.441953         1.070004           -0.413           0.680\n",
      "L1.Var1         -0.057337         0.038165           -1.502           0.133\n",
      "L1.Var2         -0.090085         0.052031           -1.731           0.083\n",
      "L1.Var3         -0.030834         0.053328           -0.578           0.563\n",
      "L1.Var4          0.000818         0.059117            0.014           0.989\n",
      "L1.Var5         -0.461061         0.044446          -10.374           0.000\n",
      "L1.Var6         -0.054366         0.031607           -1.720           0.085\n",
      "L2.Var1         -0.085908         0.044896           -1.913           0.056\n",
      "L2.Var2         -0.005204         0.058633           -0.089           0.929\n",
      "L2.Var3         -0.057106         0.064460           -0.886           0.376\n",
      "L2.Var4         -0.060904         0.068672           -0.887           0.375\n",
      "L2.Var5         -0.359261         0.049109           -7.316           0.000\n",
      "L2.Var6         -0.028104         0.034919           -0.805           0.421\n",
      "L3.Var1         -0.056000         0.050564           -1.107           0.268\n",
      "L3.Var2          0.035633         0.062382            0.571           0.568\n",
      "L3.Var3         -0.097858         0.071238           -1.374           0.170\n",
      "L3.Var4         -0.085563         0.077135           -1.109           0.267\n",
      "L3.Var5         -0.345048         0.051795           -6.662           0.000\n",
      "L3.Var6         -0.029583         0.037900           -0.781           0.435\n",
      "L4.Var1         -0.024399         0.054205           -0.450           0.653\n",
      "L4.Var2         -0.040373         0.064181           -0.629           0.529\n",
      "L4.Var3         -0.241653         0.074546           -3.242           0.001\n",
      "L4.Var4          0.004121         0.080302            0.051           0.959\n",
      "L4.Var5         -0.199072         0.054817           -3.632           0.000\n",
      "L4.Var6         -0.042339         0.040401           -1.048           0.295\n",
      "L5.Var1         -0.057182         0.056721           -1.008           0.313\n",
      "L5.Var2          0.077744         0.064273            1.210           0.226\n",
      "L5.Var3         -0.150632         0.077482           -1.944           0.052\n",
      "L5.Var4         -0.073978         0.084153           -0.879           0.379\n",
      "L5.Var5         -0.223386         0.055665           -4.013           0.000\n",
      "L5.Var6         -0.000029         0.042464           -0.001           0.999\n",
      "L6.Var1         -0.018463         0.057693           -0.320           0.749\n",
      "L6.Var2         -0.008020         0.064439           -0.124           0.901\n",
      "L6.Var3         -0.197372         0.077746           -2.539           0.011\n",
      "L6.Var4          0.096971         0.084965            1.141           0.254\n",
      "L6.Var5         -0.124839         0.055868           -2.235           0.025\n",
      "L6.Var6          0.012008         0.042643            0.282           0.778\n",
      "L7.Var1         -0.018521         0.057660           -0.321           0.748\n",
      "L7.Var2          0.062669         0.064036            0.979           0.328\n",
      "L7.Var3         -0.201997         0.076260           -2.649           0.008\n",
      "L7.Var4          0.023525         0.085023            0.277           0.782\n",
      "L7.Var5         -0.058152         0.054980           -1.058           0.290\n",
      "L7.Var6          0.012970         0.042217            0.307           0.759\n",
      "L8.Var1          0.020055         0.055260            0.363           0.717\n",
      "L8.Var2          0.016297         0.063680            0.256           0.798\n",
      "L8.Var3         -0.168042         0.073272           -2.293           0.022\n",
      "L8.Var4          0.150549         0.081708            1.843           0.065\n",
      "L8.Var5         -0.076212         0.054484           -1.399           0.162\n",
      "L8.Var6          0.024366         0.040338            0.604           0.546\n",
      "L9.Var1         -0.036685         0.051612           -0.711           0.477\n",
      "L9.Var2         -0.108873         0.061267           -1.777           0.076\n",
      "L9.Var3         -0.167995         0.070138           -2.395           0.017\n",
      "L9.Var4          0.056968         0.078695            0.724           0.469\n",
      "L9.Var5         -0.057297         0.052385           -1.094           0.274\n",
      "L9.Var6         -0.004565         0.037371           -0.122           0.903\n",
      "L10.Var1        -0.118763         0.045795           -2.593           0.010\n",
      "L10.Var2        -0.044981         0.057707           -0.779           0.436\n",
      "L10.Var3        -0.128864         0.064333           -2.003           0.045\n",
      "L10.Var4        -0.102111         0.070059           -1.458           0.145\n",
      "L10.Var5        -0.108367         0.049449           -2.192           0.028\n",
      "L10.Var6        -0.065609         0.034389           -1.908           0.056\n",
      "L11.Var1        -0.013894         0.038995           -0.356           0.722\n",
      "L11.Var2        -0.065034         0.051987           -1.251           0.211\n",
      "L11.Var3        -0.123563         0.053560           -2.307           0.021\n",
      "L11.Var4        -0.068422         0.060412           -1.133           0.257\n",
      "L11.Var5        -0.066154         0.044391           -1.490           0.136\n",
      "L11.Var6        -0.084500         0.030842           -2.740           0.006\n",
      "===========================================================================\n",
      "\n",
      "Results for equation Var6\n",
      "===========================================================================\n",
      "              coefficient       std. error           t-stat            prob\n",
      "---------------------------------------------------------------------------\n",
      "const           -0.558549         1.814783           -0.308           0.758\n",
      "L1.Var1         -0.028411         0.064730           -0.439           0.661\n",
      "L1.Var2         -0.100396         0.088248           -1.138           0.255\n",
      "L1.Var3          0.018069         0.090447            0.200           0.842\n",
      "L1.Var4          0.121829         0.100266            1.215           0.224\n",
      "L1.Var5          0.043382         0.075383            0.575           0.565\n",
      "L1.Var6         -0.373451         0.053607           -6.966           0.000\n",
      "L2.Var1         -0.052598         0.076146           -0.691           0.490\n",
      "L2.Var2         -0.074586         0.099444           -0.750           0.453\n",
      "L2.Var3          0.308065         0.109327            2.818           0.005\n",
      "L2.Var4         -0.074898         0.116471           -0.643           0.520\n",
      "L2.Var5         -0.117331         0.083291           -1.409           0.159\n",
      "L2.Var6         -0.397043         0.059224           -6.704           0.000\n",
      "L3.Var1         -0.114964         0.085760           -1.341           0.180\n",
      "L3.Var2         -0.102401         0.105803           -0.968           0.333\n",
      "L3.Var3         -0.004062         0.120823           -0.034           0.973\n",
      "L3.Var4         -0.075761         0.130826           -0.579           0.563\n",
      "L3.Var5         -0.088049         0.087848           -1.002           0.316\n",
      "L3.Var6         -0.435095         0.064280           -6.769           0.000\n",
      "L4.Var1         -0.101136         0.091934           -1.100           0.271\n",
      "L4.Var2         -0.081235         0.108853           -0.746           0.456\n",
      "L4.Var3          0.157293         0.126435            1.244           0.213\n",
      "L4.Var4         -0.193664         0.136196           -1.422           0.155\n",
      "L4.Var5          0.011397         0.092972            0.123           0.902\n",
      "L4.Var6         -0.306802         0.068523           -4.477           0.000\n",
      "L5.Var1         -0.135488         0.096201           -1.408           0.159\n",
      "L5.Var2          0.006280         0.109010            0.058           0.954\n",
      "L5.Var3          0.029864         0.131413            0.227           0.820\n",
      "L5.Var4         -0.226277         0.142727           -1.585           0.113\n",
      "L5.Var5         -0.052496         0.094411           -0.556           0.578\n",
      "L5.Var6         -0.249567         0.072022           -3.465           0.001\n",
      "L6.Var1         -0.081371         0.097850           -0.832           0.406\n",
      "L6.Var2         -0.040080         0.109293           -0.367           0.714\n",
      "L6.Var3          0.095837         0.131862            0.727           0.467\n",
      "L6.Var4         -0.054601         0.144105           -0.379           0.705\n",
      "L6.Var5         -0.018890         0.094755           -0.199           0.842\n",
      "L6.Var6         -0.194217         0.072325           -2.685           0.007\n",
      "L7.Var1         -0.044288         0.097794           -0.453           0.651\n",
      "L7.Var2         -0.078542         0.108609           -0.723           0.470\n",
      "L7.Var3          0.094599         0.129341            0.731           0.465\n",
      "L7.Var4         -0.009209         0.144204           -0.064           0.949\n",
      "L7.Var5         -0.111883         0.093250           -1.200           0.230\n",
      "L7.Var6         -0.164884         0.071603           -2.303           0.021\n",
      "L8.Var1          0.004015         0.093723            0.043           0.966\n",
      "L8.Var2         -0.201777         0.108005           -1.868           0.062\n",
      "L8.Var3          0.144405         0.124273            1.162           0.245\n",
      "L8.Var4          0.115843         0.138581            0.836           0.403\n",
      "L8.Var5         -0.079643         0.092407           -0.862           0.389\n",
      "L8.Var6         -0.153866         0.068415           -2.249           0.025\n",
      "L9.Var1         -0.019642         0.087537           -0.224           0.822\n",
      "L9.Var2         -0.104791         0.103913           -1.008           0.313\n",
      "L9.Var3         -0.039091         0.118958           -0.329           0.742\n",
      "L9.Var4          0.180427         0.133471            1.352           0.176\n",
      "L9.Var5         -0.136585         0.088847           -1.537           0.124\n",
      "L9.Var6         -0.139151         0.063383           -2.195           0.028\n",
      "L10.Var1         0.138047         0.077670            1.777           0.076\n",
      "L10.Var2        -0.180480         0.097874           -1.844           0.065\n",
      "L10.Var3         0.057708         0.109112            0.529           0.597\n",
      "L10.Var4         0.244505         0.118823            2.058           0.040\n",
      "L10.Var5        -0.040317         0.083867           -0.481           0.631\n",
      "L10.Var6        -0.094571         0.058325           -1.621           0.105\n",
      "L11.Var1         0.045930         0.066137            0.694           0.487\n",
      "L11.Var2        -0.129028         0.088173           -1.463           0.143\n",
      "L11.Var3         0.028120         0.090841            0.310           0.757\n",
      "L11.Var4         0.214121         0.102462            2.090           0.037\n",
      "L11.Var5         0.008796         0.075289            0.117           0.907\n",
      "L11.Var6        -0.100364         0.052310           -1.919           0.055\n",
      "===========================================================================\n",
      "\n",
      "Correlation matrix of residuals\n",
      "            Var1      Var2      Var3      Var4      Var5      Var6\n",
      "Var1    1.000000 -0.234467 -0.151657 -0.262871 -0.130714  0.004358\n",
      "Var2   -0.234467  1.000000  0.244289  0.550112 -0.225052 -0.430818\n",
      "Var3   -0.151657  0.244289  1.000000  0.310786  0.122135 -0.344682\n",
      "Var4   -0.262871  0.550112  0.310786  1.000000 -0.081492 -0.549872\n",
      "Var5   -0.130714 -0.225052  0.122135 -0.081492  1.000000 -0.084220\n",
      "Var6    0.004358 -0.430818 -0.344682 -0.549872 -0.084220  1.000000\n",
      "\n",
      "\n",
      "\n"
     ]
    }
   ],
   "source": [
    "print(res.summary())"
   ]
  }
 ],
 "metadata": {
  "anaconda-cloud": {},
  "colab": {
   "collapsed_sections": [],
   "name": "var_demo.ipynb",
   "provenance": []
  },
  "kernelspec": {
   "display_name": "Python 3",
   "language": "python",
   "name": "python3"
  },
  "language_info": {
   "codemirror_mode": {
    "name": "ipython",
    "version": 3
   },
   "file_extension": ".py",
   "mimetype": "text/x-python",
   "name": "python",
   "nbconvert_exporter": "python",
   "pygments_lexer": "ipython3",
   "version": "3.8.6"
  }
 },
 "nbformat": 4,
 "nbformat_minor": 1
}
